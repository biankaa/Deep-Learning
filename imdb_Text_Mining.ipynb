{
  "nbformat": 4,
  "nbformat_minor": 0,
  "metadata": {
    "colab": {
      "name": "imdb_Text Mining.ipynb",
      "version": "0.3.2",
      "provenance": [],
      "collapsed_sections": [],
      "include_colab_link": true
    },
    "kernelspec": {
      "name": "python3",
      "display_name": "Python 3"
    }
  },
  "cells": [
    {
      "cell_type": "markdown",
      "metadata": {
        "id": "view-in-github",
        "colab_type": "text"
      },
      "source": [
        "<a href=\"https://colab.research.google.com/github/biankaa/test/blob/master/imdb_Text_Mining.ipynb\" target=\"_parent\"><img src=\"https://colab.research.google.com/assets/colab-badge.svg\" alt=\"Open In Colab\"/></a>"
      ]
    },
    {
      "metadata": {
        "id": "gkPhK9e4FySf",
        "colab_type": "code",
        "colab": {}
      },
      "cell_type": "code",
      "source": [
        "import tensorflow as tf\n",
        "from tensorflow import keras\n",
        "import numpy as np"
      ],
      "execution_count": 0,
      "outputs": []
    },
    {
      "metadata": {
        "id": "Hbkz4Ci1bjyc",
        "colab_type": "code",
        "outputId": "35d44584-8e48-47f4-cfca-81f558396dc3",
        "colab": {
          "base_uri": "https://localhost:8080/",
          "height": 72
        }
      },
      "cell_type": "code",
      "source": [
        "imdb = keras.datasets.imdb\n",
        "(train_data, train_labels), (test_data, test_labels) = imdb.load_data(num_words = 10000)"
      ],
      "execution_count": 0,
      "outputs": [
        {
          "output_type": "stream",
          "text": [
            "Downloading data from https://storage.googleapis.com/tensorflow/tf-keras-datasets/imdb.npz\n",
            "17465344/17464789 [==============================] - 0s 0us/step\n"
          ],
          "name": "stdout"
        }
      ]
    },
    {
      "metadata": {
        "id": "c9al_u-7cJVq",
        "colab_type": "code",
        "outputId": "9b5c8b7a-92d9-40dc-ba53-79dccaad6bc5",
        "colab": {
          "base_uri": "https://localhost:8080/",
          "height": 35
        }
      },
      "cell_type": "code",
      "source": [
        "print(\"Training entries: {}, labels: {}\".format(len(train_data), len(train_labels)))"
      ],
      "execution_count": 0,
      "outputs": [
        {
          "output_type": "stream",
          "text": [
            "Training entries: 25000, labels: 25000\n"
          ],
          "name": "stdout"
        }
      ]
    },
    {
      "metadata": {
        "id": "KX92qG8-dEW_",
        "colab_type": "code",
        "colab": {}
      },
      "cell_type": "code",
      "source": [
        "word_index = imdb.get_word_index()\n",
        "word_index = {k:(v+3) for k,v in word_index.items()}\n",
        "word_index[\"<PAD>\"] = 0\n",
        "word_index[\"<START>\"] = 1\n",
        "word_index[\"<UNK>\"] = 2\n",
        "word_index[\"<UNUSED>\"] = 3\n",
        "\n",
        "reverse_word_index = dict([(value, key) for (key, value) in word_index.items()])\n",
        "def decode_review(text):\n",
        "  return \" \".join([reverse_word_index.get(i, \"?\") for i in text])"
      ],
      "execution_count": 0,
      "outputs": []
    },
    {
      "metadata": {
        "id": "fsUqb0PidVEX",
        "colab_type": "code",
        "outputId": "1cbfc176-862e-4d4a-ef21-57e7d0a54b31",
        "colab": {
          "base_uri": "https://localhost:8080/",
          "height": 55
        }
      },
      "cell_type": "code",
      "source": [
        "decode_review(train_data[0])"
      ],
      "execution_count": 0,
      "outputs": [
        {
          "output_type": "execute_result",
          "data": {
            "text/plain": [
              "\"<START> this film was just brilliant casting location scenery story direction everyone's really suited the part they played and you could just imagine being there robert <UNK> is an amazing actor and now the same being director <UNK> father came from the same scottish island as myself so i loved the fact there was a real connection with this film the witty remarks throughout the film were great it was just brilliant so much that i bought the film as soon as it was released for <UNK> and would recommend it to everyone to watch and the fly fishing was amazing really cried at the end it was so sad and you know what they say if you cry at a film it must have been good and this definitely was also <UNK> to the two little boy's that played the <UNK> of norman and paul they were just brilliant children are often left out of the <UNK> list i think because the stars that play them all grown up are such a big profile for the whole film but these children are amazing and should be praised for what they have done don't you think the whole story was so lovely because it was true and was someone's life after all that was shared with us all\""
            ]
          },
          "metadata": {
            "tags": []
          },
          "execution_count": 18
        }
      ]
    },
    {
      "metadata": {
        "id": "UeDGibtAeYIY",
        "colab_type": "code",
        "colab": {}
      },
      "cell_type": "code",
      "source": [
        "train_data = keras.preprocessing.sequence.pad_sequences(train_data,\n",
        "                                                        value = word_index[\"<PAD>\"],\n",
        "                                                        padding = \"post\",\n",
        "                                                        maxlen = 256)"
      ],
      "execution_count": 0,
      "outputs": []
    },
    {
      "metadata": {
        "id": "HlD0Tu0-d32r",
        "colab_type": "code",
        "colab": {}
      },
      "cell_type": "code",
      "source": [
        "test_data = keras.preprocessing.sequence.pad_sequences(test_data,\n",
        "                                                      value = word_index[\"<PAD>\"],\n",
        "                                                      padding = \"post\",\n",
        "                                                      maxlen = 256)"
      ],
      "execution_count": 0,
      "outputs": []
    },
    {
      "metadata": {
        "id": "ERfuuo2vmfLU",
        "colab_type": "code",
        "outputId": "303aa1e7-cfad-45db-8ced-296793711934",
        "colab": {
          "base_uri": "https://localhost:8080/",
          "height": 349
        }
      },
      "cell_type": "code",
      "source": [
        "vocab_size = 10000\n",
        "\n",
        "model = keras.Sequential()\n",
        "model.add(keras.layers.Embedding(vocab_size, 16))\n",
        "model.add(keras.layers.GlobalAveragePooling1D())\n",
        "model.add(keras.layers.Dense(16, activation = tf.nn.relu))\n",
        "model.add(keras.layers.Dense(1, activation = tf.nn.sigmoid))\n",
        "\n",
        "model.summary()"
      ],
      "execution_count": 0,
      "outputs": [
        {
          "output_type": "stream",
          "text": [
            "WARNING:tensorflow:From /usr/local/lib/python3.6/dist-packages/tensorflow/python/ops/resource_variable_ops.py:435: colocate_with (from tensorflow.python.framework.ops) is deprecated and will be removed in a future version.\n",
            "Instructions for updating:\n",
            "Colocations handled automatically by placer.\n",
            "_________________________________________________________________\n",
            "Layer (type)                 Output Shape              Param #   \n",
            "=================================================================\n",
            "embedding (Embedding)        (None, None, 16)          160000    \n",
            "_________________________________________________________________\n",
            "global_average_pooling1d (Gl (None, 16)                0         \n",
            "_________________________________________________________________\n",
            "dense (Dense)                (None, 16)                272       \n",
            "_________________________________________________________________\n",
            "dense_1 (Dense)              (None, 1)                 17        \n",
            "=================================================================\n",
            "Total params: 160,289\n",
            "Trainable params: 160,289\n",
            "Non-trainable params: 0\n",
            "_________________________________________________________________\n"
          ],
          "name": "stdout"
        }
      ]
    },
    {
      "metadata": {
        "id": "Ht5SR6KQmtOQ",
        "colab_type": "code",
        "colab": {}
      },
      "cell_type": "code",
      "source": [
        "model.compile(optimizer = \"adam\",\n",
        "              loss = \"binary_crossentropy\",\n",
        "              metrics = [\"acc\"])"
      ],
      "execution_count": 0,
      "outputs": []
    },
    {
      "metadata": {
        "id": "7N9cxV-IpBee",
        "colab_type": "code",
        "colab": {}
      },
      "cell_type": "code",
      "source": [
        "x_val = train_data[:10000]\n",
        "partial_x_train = train_data[10000:]\n",
        "\n",
        "y_val = train_labels[:10000]\n",
        "partial_y_train = train_labels[10000:]"
      ],
      "execution_count": 0,
      "outputs": []
    },
    {
      "metadata": {
        "id": "4fCAMjshpFxn",
        "colab_type": "code",
        "outputId": "3cf496d3-7716-4d39-89e0-2a458b60a2b6",
        "colab": {
          "base_uri": "https://localhost:8080/",
          "height": 1441
        }
      },
      "cell_type": "code",
      "source": [
        "history = model.fit(partial_x_train,\n",
        "                   partial_y_train,\n",
        "                   epochs = 40,\n",
        "                   batch_size = 512,\n",
        "                   validation_data = (x_val, y_val),\n",
        "                   verbose = 1)"
      ],
      "execution_count": 0,
      "outputs": [
        {
          "output_type": "stream",
          "text": [
            "Train on 15000 samples, validate on 10000 samples\n",
            "Epoch 1/40\n",
            "15000/15000 [==============================] - 2s 100us/sample - loss: 0.6922 - acc: 0.5055 - val_loss: 0.6903 - val_acc: 0.5195\n",
            "Epoch 2/40\n",
            "15000/15000 [==============================] - 1s 59us/sample - loss: 0.6874 - acc: 0.5619 - val_loss: 0.6833 - val_acc: 0.6474\n",
            "Epoch 3/40\n",
            "15000/15000 [==============================] - 1s 55us/sample - loss: 0.6759 - acc: 0.6941 - val_loss: 0.6685 - val_acc: 0.7177\n",
            "Epoch 4/40\n",
            "15000/15000 [==============================] - 1s 54us/sample - loss: 0.6558 - acc: 0.7487 - val_loss: 0.6457 - val_acc: 0.7186\n",
            "Epoch 5/40\n",
            "15000/15000 [==============================] - 1s 55us/sample - loss: 0.6268 - acc: 0.7714 - val_loss: 0.6151 - val_acc: 0.7617\n",
            "Epoch 6/40\n",
            "15000/15000 [==============================] - 1s 54us/sample - loss: 0.5900 - acc: 0.7978 - val_loss: 0.5790 - val_acc: 0.8037\n",
            "Epoch 7/40\n",
            "15000/15000 [==============================] - 1s 54us/sample - loss: 0.5478 - acc: 0.8249 - val_loss: 0.5388 - val_acc: 0.8154\n",
            "Epoch 8/40\n",
            "15000/15000 [==============================] - 1s 55us/sample - loss: 0.5042 - acc: 0.8451 - val_loss: 0.5001 - val_acc: 0.8314\n",
            "Epoch 9/40\n",
            "15000/15000 [==============================] - 1s 55us/sample - loss: 0.4619 - acc: 0.8612 - val_loss: 0.4638 - val_acc: 0.8440\n",
            "Epoch 10/40\n",
            "15000/15000 [==============================] - 1s 56us/sample - loss: 0.4230 - acc: 0.8727 - val_loss: 0.4325 - val_acc: 0.8503\n",
            "Epoch 11/40\n",
            "15000/15000 [==============================] - 1s 56us/sample - loss: 0.3887 - acc: 0.8813 - val_loss: 0.4052 - val_acc: 0.8615\n",
            "Epoch 12/40\n",
            "15000/15000 [==============================] - 1s 56us/sample - loss: 0.3588 - acc: 0.8888 - val_loss: 0.3829 - val_acc: 0.8633\n",
            "Epoch 13/40\n",
            "15000/15000 [==============================] - 1s 54us/sample - loss: 0.3338 - acc: 0.8947 - val_loss: 0.3635 - val_acc: 0.8679\n",
            "Epoch 14/40\n",
            "15000/15000 [==============================] - 1s 55us/sample - loss: 0.3112 - acc: 0.9002 - val_loss: 0.3486 - val_acc: 0.8724\n",
            "Epoch 15/40\n",
            "15000/15000 [==============================] - 1s 54us/sample - loss: 0.2923 - acc: 0.9039 - val_loss: 0.3367 - val_acc: 0.8726\n",
            "Epoch 16/40\n",
            "15000/15000 [==============================] - 1s 56us/sample - loss: 0.2753 - acc: 0.9094 - val_loss: 0.3262 - val_acc: 0.8745\n",
            "Epoch 17/40\n",
            "15000/15000 [==============================] - 1s 55us/sample - loss: 0.2598 - acc: 0.9142 - val_loss: 0.3176 - val_acc: 0.8769\n",
            "Epoch 18/40\n",
            "15000/15000 [==============================] - 1s 54us/sample - loss: 0.2462 - acc: 0.9189 - val_loss: 0.3103 - val_acc: 0.8794\n",
            "Epoch 19/40\n",
            "15000/15000 [==============================] - 1s 55us/sample - loss: 0.2340 - acc: 0.9217 - val_loss: 0.3039 - val_acc: 0.8806\n",
            "Epoch 20/40\n",
            "15000/15000 [==============================] - 1s 56us/sample - loss: 0.2230 - acc: 0.9247 - val_loss: 0.2992 - val_acc: 0.8819\n",
            "Epoch 21/40\n",
            "15000/15000 [==============================] - 1s 54us/sample - loss: 0.2120 - acc: 0.9296 - val_loss: 0.2951 - val_acc: 0.8824\n",
            "Epoch 22/40\n",
            "15000/15000 [==============================] - 1s 54us/sample - loss: 0.2028 - acc: 0.9334 - val_loss: 0.2924 - val_acc: 0.8839\n",
            "Epoch 23/40\n",
            "15000/15000 [==============================] - 1s 53us/sample - loss: 0.1937 - acc: 0.9373 - val_loss: 0.2902 - val_acc: 0.8825\n",
            "Epoch 24/40\n",
            "15000/15000 [==============================] - 1s 53us/sample - loss: 0.1857 - acc: 0.9405 - val_loss: 0.2872 - val_acc: 0.8844\n",
            "Epoch 25/40\n",
            "15000/15000 [==============================] - 1s 52us/sample - loss: 0.1777 - acc: 0.9439 - val_loss: 0.2858 - val_acc: 0.8857\n",
            "Epoch 26/40\n",
            "15000/15000 [==============================] - 1s 53us/sample - loss: 0.1704 - acc: 0.9468 - val_loss: 0.2856 - val_acc: 0.8833\n",
            "Epoch 27/40\n",
            "15000/15000 [==============================] - 1s 51us/sample - loss: 0.1637 - acc: 0.9501 - val_loss: 0.2843 - val_acc: 0.8852\n",
            "Epoch 28/40\n",
            "15000/15000 [==============================] - 1s 53us/sample - loss: 0.1573 - acc: 0.9529 - val_loss: 0.2837 - val_acc: 0.8844\n",
            "Epoch 29/40\n",
            "15000/15000 [==============================] - 1s 53us/sample - loss: 0.1517 - acc: 0.9545 - val_loss: 0.2855 - val_acc: 0.8834\n",
            "Epoch 30/40\n",
            "15000/15000 [==============================] - 1s 52us/sample - loss: 0.1458 - acc: 0.9567 - val_loss: 0.2842 - val_acc: 0.8855\n",
            "Epoch 31/40\n",
            "15000/15000 [==============================] - 1s 51us/sample - loss: 0.1400 - acc: 0.9589 - val_loss: 0.2849 - val_acc: 0.8858\n",
            "Epoch 32/40\n",
            "15000/15000 [==============================] - 1s 53us/sample - loss: 0.1347 - acc: 0.9608 - val_loss: 0.2859 - val_acc: 0.8865\n",
            "Epoch 33/40\n",
            "15000/15000 [==============================] - 1s 54us/sample - loss: 0.1297 - acc: 0.9627 - val_loss: 0.2878 - val_acc: 0.8846\n",
            "Epoch 34/40\n",
            "15000/15000 [==============================] - 1s 54us/sample - loss: 0.1252 - acc: 0.9645 - val_loss: 0.2886 - val_acc: 0.8857\n",
            "Epoch 35/40\n",
            "15000/15000 [==============================] - 1s 53us/sample - loss: 0.1208 - acc: 0.9657 - val_loss: 0.2916 - val_acc: 0.8854\n",
            "Epoch 36/40\n",
            "15000/15000 [==============================] - 1s 53us/sample - loss: 0.1165 - acc: 0.9680 - val_loss: 0.2926 - val_acc: 0.8858\n",
            "Epoch 37/40\n",
            "15000/15000 [==============================] - 1s 52us/sample - loss: 0.1122 - acc: 0.9703 - val_loss: 0.2944 - val_acc: 0.8857\n",
            "Epoch 38/40\n",
            "15000/15000 [==============================] - 1s 53us/sample - loss: 0.1082 - acc: 0.9717 - val_loss: 0.2972 - val_acc: 0.8847\n",
            "Epoch 39/40\n",
            "15000/15000 [==============================] - 1s 52us/sample - loss: 0.1049 - acc: 0.9721 - val_loss: 0.2999 - val_acc: 0.8847\n",
            "Epoch 40/40\n",
            "15000/15000 [==============================] - 1s 54us/sample - loss: 0.1010 - acc: 0.9738 - val_loss: 0.3014 - val_acc: 0.8843\n"
          ],
          "name": "stdout"
        }
      ]
    },
    {
      "metadata": {
        "id": "HgoZg1k1pUN3",
        "colab_type": "code",
        "outputId": "26e1795a-659d-4303-dbc3-6ad744dccd85",
        "colab": {
          "base_uri": "https://localhost:8080/",
          "height": 72
        }
      },
      "cell_type": "code",
      "source": [
        "results = model.evaluate(test_data, test_labels)\n",
        "print(results)"
      ],
      "execution_count": 0,
      "outputs": [
        {
          "output_type": "stream",
          "text": [
            "25000/25000 [==============================] - 1s 45us/sample - loss: 0.3224 - acc: 0.8736\n",
            "[0.3224385715007782, 0.87356]\n"
          ],
          "name": "stdout"
        }
      ]
    },
    {
      "metadata": {
        "id": "S-5QgySOr7FW",
        "colab_type": "code",
        "outputId": "6328d9be-9ac1-49ec-f518-9789a55858ff",
        "colab": {
          "base_uri": "https://localhost:8080/",
          "height": 35
        }
      },
      "cell_type": "code",
      "source": [
        "history_dict = history.history\n",
        "history_dict.keys()"
      ],
      "execution_count": 0,
      "outputs": [
        {
          "output_type": "execute_result",
          "data": {
            "text/plain": [
              "dict_keys(['loss', 'acc', 'val_loss', 'val_acc'])"
            ]
          },
          "metadata": {
            "tags": []
          },
          "execution_count": 40
        }
      ]
    },
    {
      "metadata": {
        "id": "Dane20pQsOJb",
        "colab_type": "code",
        "colab": {}
      },
      "cell_type": "code",
      "source": [
        "import matplotlib.pyplot as plt\n",
        "\n",
        "acc = history_dict[\"acc\"]\n",
        "val_acc = history_dict[\"val_acc\"]\n",
        "loss = history_dict[\"loss\"]\n",
        "val_loss = history_dict[\"val_loss\"]"
      ],
      "execution_count": 0,
      "outputs": []
    },
    {
      "metadata": {
        "id": "FD8UVnkYtL_v",
        "colab_type": "code",
        "outputId": "aae6c6e9-007e-41c9-f800-a5815a9bae8f",
        "colab": {
          "base_uri": "https://localhost:8080/",
          "height": 295
        }
      },
      "cell_type": "code",
      "source": [
        "epochs = range(1, len(acc) + 1)\n",
        "\n",
        "plt.plot(epochs, loss, \"bo\", label = \"Training loss\")\n",
        "plt.plot(epochs, val_loss, \"b\", label = \"Validation loss\")\n",
        "plt.title(\"Training and validation loss\")\n",
        "plt.xlabel(\"Epochs\")\n",
        "plt.ylabel(\"Loss\")\n",
        "plt.legend()\n",
        "\n",
        "plt.show()"
      ],
      "execution_count": 0,
      "outputs": [
        {
          "output_type": "display_data",
          "data": {
            "image/png": "[encoded data removed]",
            "text/plain": [
              "<Figure size 432x288 with 1 Axes>"
            ]
          },
          "metadata": {
            "tags": []
          }
        }
      ]
    },
    {
      "metadata": {
        "id": "WDVHVexftnSq",
        "colab_type": "code",
        "outputId": "3667cdff-7811-4550-8d4e-5b702c09f28b",
        "colab": {
          "base_uri": "https://localhost:8080/",
          "height": 295
        }
      },
      "cell_type": "code",
      "source": [
        "plt.clf()\n",
        "\n",
        "plt.plot(epochs, acc, \"bo\", label = \"Training acc\")\n",
        "plt.plot(epochs, val_acc, \"b\", label = \"Validation acc\")\n",
        "plt.title(\"Training and validation accuracy\")\n",
        "plt.xlabel(\"Epochs\")\n",
        "plt.ylabel(\"Accuracy\")\n",
        "plt.legend()\n",
        "\n",
        "plt.show()"
      ],
      "execution_count": 0,
      "outputs": [
        {
          "output_type": "display_data",
          "data": {
            "image/png": "[encoded data removed]",
            "text/plain": [
              "<Figure size 432x288 with 1 Axes>"
            ]
          },
          "metadata": {
            "tags": []
          }
        }
      ]
    },
    {
      "metadata": {
        "id": "_PMpfEu4tvF_",
        "colab_type": "code",
        "colab": {}
      },
      "cell_type": "code",
      "source": [
        ""
      ],
      "execution_count": 0,
      "outputs": []
    }
  ]
}